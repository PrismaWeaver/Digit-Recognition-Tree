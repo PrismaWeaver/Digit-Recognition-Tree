{
  "nbformat": 4,
  "nbformat_minor": 0,
  "metadata": {
    "colab": {
      "provenance": []
    },
    "kernelspec": {
      "name": "python3",
      "display_name": "Python 3"
    },
    "language_info": {
      "name": "python"
    }
  },
  "cells": [
    {
      "cell_type": "code",
      "execution_count": 1,
      "metadata": {
        "id": "wWnRqZIGByIr"
      },
      "outputs": [],
      "source": [
        "import pandas as pd\n",
        "import numpy as np\n",
        "from sklearn.base import clone\n",
        "from sklearn.neighbors import KNeighborsClassifier\n",
        "from sklearn.ensemble import BaggingClassifier\n",
        "from sklearn.model_selection import GridSearchCV, StratifiedKFold\n",
        "from sklearn.metrics import confusion_matrix, classification_report\n",
        "\n",
        "train_path = './Data/train.csv'\n",
        "test_path = './Data/test.csv'\n",
        "train_data = pd.read_csv(train_path)\n",
        "test_data = pd.read_csv(test_path)"
      ]
    },
    {
      "cell_type": "code",
      "source": [
        "#this is where the training & test data is fitted\n",
        "\n",
        "train_data.dropna(inplace=True)\n",
        "test_data.dropna(inplace=True)\n",
        "\n",
        "X_train = train_data.drop(columns=['label']).values\n",
        "Y_train = train_data['label'].values\n",
        "X_test = test_data.values"
      ],
      "metadata": {
        "id": "PqEPXsBbJXs1"
      },
      "execution_count": 2,
      "outputs": []
    },
    {
      "cell_type": "code",
      "source": [
        "#this is where we tune the hyperparamater k & check performance of base model\n",
        "\n",
        "param_grid = {'n_neighbors': [3, 4, 5, 6, 7, 8, 9, 10]}\n",
        "GSCV_kNN = GridSearchCV(estimator=KNeighborsClassifier(), param_grid=param_grid)\n",
        "\n",
        "#stratified k-fold is used to ensure there is an equal distribution of classifiers in each model\n",
        "stratified_fold = StratifiedKFold(n_splits=10, shuffle=True, random_state=43)\n",
        "for fold, indi in enumerate(stratified_fold.split(X_train, Y_train)):\n",
        "  X_train_, Y_train_ = X_train[indi[0]], Y_train[indi[0]]\n",
        "  X_test_, Y_test_ = X_train[indi[1]], Y_train[indi[1]]\n",
        "\n",
        "  GSCV_kNN.fit(X_train_, Y_train_)\n",
        "  pred = GSCV_kNN.predict(X_test_)\n",
        "\n",
        "  #prints some basic info about each model in the list\n",
        "  print(f\"Classification report for Fold {fold + 1}:\")\n",
        "  print(classification_report(Y_test_, pred, digits=3))\n",
        "    \n",
        "  print(f\"Confusion Matrix for Fold {fold + 1}:\")\n",
        "  print(confusion_matrix(Y_test_, pred), end=\"\\n\\n\")\n",
        "\n",
        "  del X_train_\n",
        "  del X_test_\n",
        "  del Y_train_\n",
        "  del Y_test_"
      ],
      "metadata": {
        "id": "3ZjhW9JznF8z"
      },
      "execution_count": null,
      "outputs": []
    },
    {
      "cell_type": "code",
      "source": [
        "#this is where the bagging classifer is generated\n",
        "\n",
        "digit_bag = BaggingClassifier(estimator=GSCV_kNN, oob_score=True)"
      ],
      "metadata": {
        "id": "Q-VjrXfxxIK7"
      },
      "execution_count": null,
      "outputs": []
    }
  ]
}